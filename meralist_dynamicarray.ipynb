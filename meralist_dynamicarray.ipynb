{
  "cells": [
    {
      "cell_type": "markdown",
      "metadata": {
        "id": "view-in-github",
        "colab_type": "text"
      },
      "source": [
        "<a href=\"https://colab.research.google.com/github/niharikaathakur/Python-DSA/blob/main/meralist_dynamicarray.ipynb\" target=\"_parent\"><img src=\"https://colab.research.google.com/assets/colab-badge.svg\" alt=\"Open In Colab\"/></a>"
      ]
    },
    {
      "cell_type": "code",
      "execution_count": 130,
      "id": "99c542e4",
      "metadata": {
        "id": "99c542e4"
      },
      "outputs": [],
      "source": [
        "import ctypes"
      ]
    },
    {
      "cell_type": "code",
      "execution_count": 131,
      "id": "beabf1b3",
      "metadata": {
        "id": "beabf1b3"
      },
      "outputs": [],
      "source": [
        "class MeraList:\n",
        "\n",
        "    def __init__(self):\n",
        "        self.size = 1\n",
        "        self.n = 0\n",
        "        #create a C type array with size = self.size\n",
        "\n",
        "        self.A = self.__make_array(self.size)\n",
        "\n",
        "    def __len__(self):\n",
        "        return self.n\n",
        "\n",
        "    def __str__(self):\n",
        "        result = ''\n",
        "        for i in range(self.n):\n",
        "            result = result + str(self.A[i]) + \",\"\n",
        "        return '[' + result[:-1] + ']'\n",
        "\n",
        "    def __getitem__(self,index):\n",
        "        if 0<= index <self.n:\n",
        "          return self.A[index]\n",
        "        else:\n",
        "          return 'Index out of range'\n",
        "\n",
        "    def append(self,item):\n",
        "        if self.n == self.size:\n",
        "            self.__resize(self.size*2)\n",
        "        self.A[self.n] = item\n",
        "        self.n = self.n + 1\n",
        "\n",
        "\n",
        "    def pop(self):\n",
        "        if self.n == 0:\n",
        "            return 'Empty list'\n",
        "        print (self.A[self.n-1])\n",
        "        self.n = self.n - 1\n",
        "\n",
        "    def clear(self):\n",
        "      self.n = 0\n",
        "      self.size = 1\n",
        "\n",
        "    def __resize(self,new_capacity):\n",
        "        B = self.__make_array(new_capacity)\n",
        "        self.size = new_capacity\n",
        "        for i in range(self.n):\n",
        "            B[i] = self.A[i]\n",
        "        self.A = B\n",
        "\n",
        "    def __make_array(self,capacity):\n",
        "        #creates a C type array with size capacity - static and referential\n",
        "        return (capacity*ctypes.py_object)()"
      ]
    },
    {
      "cell_type": "code",
      "execution_count": 132,
      "id": "1e490189",
      "metadata": {
        "id": "1e490189"
      },
      "outputs": [],
      "source": [
        "L = MeraList()"
      ]
    },
    {
      "cell_type": "code",
      "source": [
        "type(L)"
      ],
      "metadata": {
        "colab": {
          "base_uri": "https://localhost:8080/",
          "height": 104
        },
        "id": "u5-ea8g1FxBy",
        "outputId": "c95c027d-2839-4173-f37c-e231990f72f7"
      },
      "id": "u5-ea8g1FxBy",
      "execution_count": 133,
      "outputs": [
        {
          "output_type": "execute_result",
          "data": {
            "text/plain": [
              "__main__.MeraList"
            ],
            "text/html": [
              "<div style=\"max-width:800px; border: 1px solid var(--colab-border-color);\"><style>\n",
              "      pre.function-repr-contents {\n",
              "        overflow-x: auto;\n",
              "        padding: 8px 12px;\n",
              "        max-height: 500px;\n",
              "      }\n",
              "\n",
              "      pre.function-repr-contents.function-repr-contents-collapsed {\n",
              "        cursor: pointer;\n",
              "        max-height: 100px;\n",
              "      }\n",
              "    </style>\n",
              "    <pre style=\"white-space: initial; background:\n",
              "         var(--colab-secondary-surface-color); padding: 8px 12px;\n",
              "         border-bottom: 1px solid var(--colab-border-color);\"><b>MeraList</b><br/>def __init__()</pre><pre class=\"function-repr-contents function-repr-contents-collapsed\" style=\"\"><a class=\"filepath\" style=\"display:none\" href=\"#\"></a>&lt;no docstring&gt;</pre></div>"
            ]
          },
          "metadata": {},
          "execution_count": 133
        }
      ]
    },
    {
      "cell_type": "code",
      "source": [
        "len(L)"
      ],
      "metadata": {
        "colab": {
          "base_uri": "https://localhost:8080/"
        },
        "id": "ZEr8PXQ_Gmkq",
        "outputId": "2e3b8c21-d4b4-43bc-e2ef-57aa84ec15d1"
      },
      "id": "ZEr8PXQ_Gmkq",
      "execution_count": 134,
      "outputs": [
        {
          "output_type": "execute_result",
          "data": {
            "text/plain": [
              "0"
            ]
          },
          "metadata": {},
          "execution_count": 134
        }
      ]
    },
    {
      "cell_type": "code",
      "source": [
        "L.append('hello')\n",
        "L.append(3.4)\n",
        "L.append(True)\n",
        "L.append(100)"
      ],
      "metadata": {
        "id": "bIgSiDlpGqV6"
      },
      "id": "bIgSiDlpGqV6",
      "execution_count": 135,
      "outputs": []
    },
    {
      "cell_type": "code",
      "source": [
        "len(L)"
      ],
      "metadata": {
        "colab": {
          "base_uri": "https://localhost:8080/"
        },
        "id": "HueR7sK5JZgC",
        "outputId": "48f876f7-7257-429f-c138-44590d9141bc"
      },
      "id": "HueR7sK5JZgC",
      "execution_count": 136,
      "outputs": [
        {
          "output_type": "execute_result",
          "data": {
            "text/plain": [
              "4"
            ]
          },
          "metadata": {},
          "execution_count": 136
        }
      ]
    },
    {
      "cell_type": "code",
      "source": [
        "print(L)"
      ],
      "metadata": {
        "colab": {
          "base_uri": "https://localhost:8080/"
        },
        "id": "qOgceJoBJar6",
        "outputId": "68939119-3b05-45da-a1fa-152f8c724f6a"
      },
      "id": "qOgceJoBJar6",
      "execution_count": 137,
      "outputs": [
        {
          "output_type": "stream",
          "name": "stdout",
          "text": [
            "[hello,3.4,True,100]\n"
          ]
        }
      ]
    },
    {
      "cell_type": "code",
      "source": [
        "L[4]"
      ],
      "metadata": {
        "colab": {
          "base_uri": "https://localhost:8080/",
          "height": 35
        },
        "id": "ofLYYgPaKAbc",
        "outputId": "fab24275-8bb6-4e16-d737-6dd1a6b92a8a"
      },
      "id": "ofLYYgPaKAbc",
      "execution_count": 138,
      "outputs": [
        {
          "output_type": "execute_result",
          "data": {
            "text/plain": [
              "'Index out of range'"
            ],
            "application/vnd.google.colaboratory.intrinsic+json": {
              "type": "string"
            }
          },
          "metadata": {},
          "execution_count": 138
        }
      ]
    },
    {
      "cell_type": "code",
      "source": [
        "L[2]"
      ],
      "metadata": {
        "colab": {
          "base_uri": "https://localhost:8080/"
        },
        "id": "xFLMZObIVcUd",
        "outputId": "edaded8e-74d5-4031-81de-5383cbaeab97"
      },
      "id": "xFLMZObIVcUd",
      "execution_count": 139,
      "outputs": [
        {
          "output_type": "execute_result",
          "data": {
            "text/plain": [
              "True"
            ]
          },
          "metadata": {},
          "execution_count": 139
        }
      ]
    },
    {
      "cell_type": "code",
      "source": [
        "print(L)"
      ],
      "metadata": {
        "colab": {
          "base_uri": "https://localhost:8080/"
        },
        "id": "crhLxfiIVdn0",
        "outputId": "2ba0d4c6-c07b-4f75-bfc3-c4cb4702e009"
      },
      "id": "crhLxfiIVdn0",
      "execution_count": 140,
      "outputs": [
        {
          "output_type": "stream",
          "name": "stdout",
          "text": [
            "[hello,3.4,True,100]\n"
          ]
        }
      ]
    },
    {
      "cell_type": "code",
      "source": [
        "L.pop()"
      ],
      "metadata": {
        "colab": {
          "base_uri": "https://localhost:8080/"
        },
        "id": "_5NpCyT-WMZs",
        "outputId": "4dcfc05f-b382-45d2-db3c-d24a63fe976c"
      },
      "id": "_5NpCyT-WMZs",
      "execution_count": 141,
      "outputs": [
        {
          "output_type": "stream",
          "name": "stdout",
          "text": [
            "100\n"
          ]
        }
      ]
    },
    {
      "cell_type": "code",
      "source": [
        "print(L)"
      ],
      "metadata": {
        "colab": {
          "base_uri": "https://localhost:8080/"
        },
        "id": "MDEXQAmjWPk0",
        "outputId": "82c34528-92bd-4274-fbee-705c6f806880"
      },
      "id": "MDEXQAmjWPk0",
      "execution_count": 142,
      "outputs": [
        {
          "output_type": "stream",
          "name": "stdout",
          "text": [
            "[hello,3.4,True]\n"
          ]
        }
      ]
    },
    {
      "cell_type": "code",
      "source": [
        "L.clear()"
      ],
      "metadata": {
        "id": "bsbOBZFtWTlU"
      },
      "id": "bsbOBZFtWTlU",
      "execution_count": 143,
      "outputs": []
    },
    {
      "cell_type": "code",
      "source": [
        "L"
      ],
      "metadata": {
        "colab": {
          "base_uri": "https://localhost:8080/"
        },
        "id": "BJ8UIrzDehV9",
        "outputId": "f23bddf0-411f-4672-95ab-23f365ab1686"
      },
      "id": "BJ8UIrzDehV9",
      "execution_count": 144,
      "outputs": [
        {
          "output_type": "execute_result",
          "data": {
            "text/plain": [
              "<__main__.MeraList at 0x792f06663250>"
            ]
          },
          "metadata": {},
          "execution_count": 144
        }
      ]
    },
    {
      "cell_type": "code",
      "source": [
        "print()"
      ],
      "metadata": {
        "colab": {
          "base_uri": "https://localhost:8080/"
        },
        "id": "AH_QSSbvenjN",
        "outputId": "f8657b40-d307-492d-f42a-6f1515c81e03"
      },
      "id": "AH_QSSbvenjN",
      "execution_count": 145,
      "outputs": [
        {
          "output_type": "stream",
          "name": "stdout",
          "text": [
            "\n"
          ]
        }
      ]
    },
    {
      "cell_type": "code",
      "source": [],
      "metadata": {
        "id": "HOlhxRxdeqFN"
      },
      "id": "HOlhxRxdeqFN",
      "execution_count": null,
      "outputs": []
    }
  ],
  "metadata": {
    "kernelspec": {
      "display_name": "Python 3 (ipykernel)",
      "language": "python",
      "name": "python3"
    },
    "language_info": {
      "codemirror_mode": {
        "name": "ipython",
        "version": 3
      },
      "file_extension": ".py",
      "mimetype": "text/x-python",
      "name": "python",
      "nbconvert_exporter": "python",
      "pygments_lexer": "ipython3",
      "version": "3.9.7"
    },
    "colab": {
      "provenance": [],
      "include_colab_link": true
    }
  },
  "nbformat": 4,
  "nbformat_minor": 5
}